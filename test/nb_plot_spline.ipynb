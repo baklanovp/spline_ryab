{
 "cells": [
  {
   "cell_type": "code",
   "execution_count": null,
   "id": "1d8ec47d",
   "metadata": {},
   "outputs": [],
   "source": [
    "# Just to know last time this was run:\n",
    "import time\n",
    "print(time.ctime())"
   ]
  },
  {
   "cell_type": "markdown",
   "id": "3ea7319d",
   "metadata": {},
   "source": [
    "#  Plot spline"
   ]
  },
  {
   "cell_type": "code",
   "execution_count": null,
   "id": "5a211a35",
   "metadata": {},
   "outputs": [],
   "source": [
    "%load_ext autoreload\n",
    "%autoreload 2\n",
    "%autosave 10\n",
    "\n",
    "# for plottong\n",
    "# import matplotlib\n",
    "# matplotlib.use('TkAgg')\n",
    "\n",
    "# %matplotlib inline\n",
    "%matplotlib widget\n",
    "# %matplotlib notebook\n",
    "from matplotlib import rcParams\n",
    "from matplotlib.lines import lineStyles\n",
    "import matplotlib.pyplot as plt\n",
    "# from matplotlib import gridspec\n",
    "# import matplotlib.lines as mlines\n",
    "\n",
    "if True:\n",
    "    plt.style.use('/home/bakl/Sn/my/papers/lib/mpl/mtl2smv2.stl')\n",
    "    \n",
    "plt.rcParams['figure.facecolor'] = 'white'\n",
    "plt.rcParams['axes.facecolor'] = 'white'\n",
    "plt.rcParams['font.size'] = 14    \n",
    "\n",
    "\n",
    "# # https://stackoverflow.com/questions/21884271/warning-about-too-many-open-figures\n",
    "# plt.rcParams.update({'figure.max_open_warning': 0})\n",
    "# import matplotlib.transforms as transforms\n",
    "\n",
    "#import bqplot.pyplot as bplt\n",
    "import ipywidgets as widgets\n",
    "\n",
    "from IPython.display import HTML\n",
    "\n",
    "from IPython.core.interactiveshell import InteractiveShell\n",
    "InteractiveShell.ast_node_interactivity = \"all\""
   ]
  },
  {
   "cell_type": "code",
   "execution_count": null,
   "id": "b237bb49",
   "metadata": {},
   "outputs": [],
   "source": [
    "import os\n",
    "import sys\n",
    "# import pickle\n",
    "# import operator\n",
    "# from collections import namedtuple\n",
    "# import itertools\n",
    "\n",
    "import numpy as np\n",
    "# import scipy\n",
    "# from scipy import stats\n",
    "# from scipy import interpolate\n",
    "# from scipy import optimize\n",
    "# import pandas as pd\n",
    "# import seaborn as sns\n",
    "\n",
    "def fig_save(fig, fname, ext=\".pdf\"):\n",
    "    if not fname.endswith(ext):\n",
    "        fname += ext\n",
    "    fsave = os.path.expanduser(fname)\n",
    "    print(\"Save plot to %s \" % fsave)\n",
    "    fig.savefig(fsave, bbox_inches='tight')\n",
    "    \n",
    "figsave = fig_save"
   ]
  },
  {
   "cell_type": "code",
   "execution_count": null,
   "id": "d9fd0be0",
   "metadata": {},
   "outputs": [],
   "source": [
    "# parameters\n",
    "path_data = '..'\n",
    "\n",
    "f_in = 'input_4d.dat'\n",
    "f_res = 'result_4d.dat'\n",
    "\n",
    "din = np.loadtxt(os.path.join(path_data,f_in))\n",
    "dres = np.loadtxt(os.path.join(path_data,f_res))"
   ]
  },
  {
   "cell_type": "code",
   "execution_count": null,
   "id": "19fc2469",
   "metadata": {},
   "outputs": [],
   "source": [
    "din[:,2]"
   ]
  },
  {
   "cell_type": "markdown",
   "id": "c1935f21",
   "metadata": {},
   "source": [
    "# Plot 1d"
   ]
  },
  {
   "cell_type": "markdown",
   "id": "b65992f3",
   "metadata": {},
   "source": []
  },
  {
   "cell_type": "code",
   "execution_count": null,
   "id": "98f7e04f",
   "metadata": {},
   "outputs": [],
   "source": [
    "fig, ax = plt.subplots(1,1, figsize=(8, 4))\n",
    "\n",
    "# Table\n",
    "x, y = din[:,0], din[:,-1]\n",
    "ax.plot(x,y,marker='o', ls='',label='Table');\n",
    "# Spline\n",
    "x, y = dres[:,0], dres[:,-1]\n",
    "ax.plot(x,y, ls='--',label='Spline');\n",
    "\n",
    "ax.set_xlabel('X');\n",
    "ax.set_ylabel('Func');\n",
    "ax.legend();"
   ]
  },
  {
   "cell_type": "code",
   "execution_count": null,
   "id": "9ca5d9e8",
   "metadata": {},
   "outputs": [],
   "source": [
    "mask = [v in xu for v in x]\n",
    "# len(mask), np.where(mask != False)\n",
    "xu\n"
   ]
  },
  {
   "cell_type": "markdown",
   "id": "c4fde259",
   "metadata": {},
   "source": [
    "# Plot 2d"
   ]
  },
  {
   "cell_type": "code",
   "execution_count": null,
   "id": "c43980f2",
   "metadata": {},
   "outputs": [],
   "source": [
    "from matplotlib import cm\n",
    "from matplotlib.ticker import LinearLocator\n",
    "\n",
    "fig, ax = plt.subplots(subplot_kw={\"projection\": \"3d\"}, figsize=(10, 10))\n",
    "\n",
    "# Make data.\n",
    "X, Y = din[:,0], din[:,1]\n",
    "Xu = np.unique(X)\n",
    "Yu = np.unique(Y)\n",
    "\n",
    "Xg, Yg = np.meshgrid(Xu, Yu)\n",
    "# Z = din[:, 2].reshape(np.unique(din[:, 1]).size, np.unique(din[:, 0]).size)\n",
    "Z = din[:, 2]\n",
    "Zg = Z.reshape(Xu.size, Yu.size)\n",
    "\n",
    "colors = Z / np.max(Z) * 100\n",
    "\n",
    "ax.scatter(X, Y, Z, c=colors, label='Table', cmap=cm.viridis_r, marker='s')\n",
    "# surf = ax.plot_surface(Xg, Yg, Zg, cmap=cm.coolwarm,linewidth=0, antialiased=False, alpha=0.5, label='Table');\n",
    "\n",
    "## Plot the spline.\n",
    "X, Y = dres[:,0], dres[:,1]\n",
    "Z = dres[:, 2]\n",
    "ax.scatter(X, Y, Z, label='spline', marker='d', alpha=0.75);\n",
    "\n",
    "# surf = ax.plot_surface(Xg, Yg, Z, cmap=cm.coolwarm,linewidth=0, antialiased=False, alpha=0.5)\n",
    "\n",
    "# # Customize the z axis.\n",
    "# ax.set_zlim(-1.01, 1.01)\n",
    "# ax.zaxis.set_major_locator(LinearLocator(10))\n",
    "# # A StrMethodFormatter is used automatically\n",
    "# ax.zaxis.set_major_formatter('{x:.02f}')\n",
    "\n",
    "# Add a color bar which maps values to colors.\n",
    "fig.colorbar(surf, shrink=0.5, aspect=5);\n",
    "ax.set_xlabel('X');\n",
    "ax.set_ylabel('Y');\n",
    "# ax.set_ylabel('Y');\n",
    "ax.legend()\n",
    "ax.view_init(elev=20., azim=-35, roll=0);\n",
    "\n",
    "fig.tight_layout();"
   ]
  },
  {
   "cell_type": "code",
   "execution_count": null,
   "id": "b6ad49a1",
   "metadata": {},
   "outputs": [],
   "source": []
  }
 ],
 "metadata": {
  "kernelspec": {
   "display_name": "nb",
   "language": "python",
   "name": "python3"
  },
  "language_info": {
   "codemirror_mode": {
    "name": "ipython",
    "version": 3
   },
   "file_extension": ".py",
   "mimetype": "text/x-python",
   "name": "python",
   "nbconvert_exporter": "python",
   "pygments_lexer": "ipython3",
   "version": "3.12.4"
  }
 },
 "nbformat": 4,
 "nbformat_minor": 5
}
